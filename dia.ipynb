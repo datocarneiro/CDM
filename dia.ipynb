{
 "cells": [
  {
   "cell_type": "code",
   "execution_count": 2,
   "metadata": {},
   "outputs": [],
   "source": [
    "import datetime"
   ]
  },
  {
   "cell_type": "code",
   "execution_count": 18,
   "metadata": {},
   "outputs": [],
   "source": [
    "data_hora_str = '01/10/2024 13:00'"
   ]
  },
  {
   "cell_type": "code",
   "execution_count": 13,
   "metadata": {},
   "outputs": [
    {
     "name": "stdout",
     "output_type": "stream",
     "text": [
      "01/10/2024 06:00\n"
     ]
    }
   ],
   "source": [
    "print(data_hora_str)"
   ]
  },
  {
   "cell_type": "code",
   "execution_count": 20,
   "metadata": {},
   "outputs": [
    {
     "name": "stdout",
     "output_type": "stream",
     "text": [
      "2024-10-01 13:00:00\n"
     ]
    }
   ],
   "source": [
    "data_hora = datetime.datetime.strptime(data_hora_str, '%d/%m/%Y %H:%M')\n",
    "print(data_hora)"
   ]
  },
  {
   "cell_type": "code",
   "execution_count": 22,
   "metadata": {},
   "outputs": [
    {
     "name": "stdout",
     "output_type": "stream",
     "text": [
      "Ano: 2024, Mês: 10, Dia: 1, Hora: 13, Minuto: 0\n"
     ]
    }
   ],
   "source": [
    "### 2. **Acessar partes individuais (ano, mês, dia, hora, minuto):**\n",
    "ano = data_hora.year\n",
    "mes = data_hora.month\n",
    "dia = data_hora.day\n",
    "hora = data_hora.hour\n",
    "minuto = data_hora.minute\n",
    "print(f\"Ano: {ano}, Mês: {mes}, Dia: {dia}, Hora: {hora}, Minuto: {minuto}\")"
   ]
  },
  {
   "cell_type": "code",
   "execution_count": 28,
   "metadata": {},
   "outputs": [
    {
     "name": "stdout",
     "output_type": "stream",
     "text": [
      "2024-10-03 13:00:00\n"
     ]
    }
   ],
   "source": [
    "### 3. **Somar ou subtrair tempo (dias, horas, minutos):**\n",
    "# **Somar 10 dias:**\n",
    "nova_data_hora = data_hora + datetime.timedelta(days=2)\n",
    "print(nova_data_hora)"
   ]
  },
  {
   "cell_type": "code",
   "execution_count": 26,
   "metadata": {},
   "outputs": [
    {
     "name": "stdout",
     "output_type": "stream",
     "text": [
      "2024-10-01 11:00:00\n"
     ]
    }
   ],
   "source": [
    "# **Subtrair 2 horas:**\n",
    "nova_data_hora = data_hora - datetime.timedelta(hours=2)\n",
    "print(nova_data_hora)"
   ]
  },
  {
   "cell_type": "code",
   "execution_count": 30,
   "metadata": {},
   "outputs": [
    {
     "name": "stdout",
     "output_type": "stream",
     "text": [
      "2024-10-01 15:00:00\n"
     ]
    }
   ],
   "source": [
    "# **Somar 2 horas:**\n",
    "nova_data_hora = data_hora + datetime.timedelta(hours=2)\n",
    "print(nova_data_hora)"
   ]
  },
  {
   "cell_type": "code",
   "execution_count": 34,
   "metadata": {},
   "outputs": [
    {
     "name": "stdout",
     "output_type": "stream",
     "text": [
      "Diferença: -2 dias e 1 horas\n"
     ]
    }
   ],
   "source": [
    "### 4. **Calcular a diferença entre duas datas:**\n",
    "\n",
    "data_hora_str = '01/10/2024 13:00'\n",
    "data_hora_str_2= '03/10/2024 12:00'\n",
    "data1 = datetime.datetime.strptime(data_hora_str, '%d/%m/%Y %H:%M')\n",
    "data2 = datetime.datetime.strptime(data_hora_str_2, '%d/%m/%Y %H:%M')\n",
    "\n",
    "diferenca = data1 - data2\n",
    "print(f\"Diferença: {diferenca.days} dias e {diferenca.seconds // 3600} horas\")"
   ]
  },
  {
   "cell_type": "code",
   "execution_count": 42,
   "metadata": {},
   "outputs": [
    {
     "name": "stdout",
     "output_type": "stream",
     "text": [
      "As datas são iguais\n"
     ]
    }
   ],
   "source": [
    "### 6. **Comparar duas datas:**\n",
    "\n",
    "data_hora_str = '03/10/2024 13:00'\n",
    "data_futura= '03/10/2024 13:00'\n",
    "data1 = datetime.datetime.strptime(data_hora_str, '%d/%m/%Y %H:%M')\n",
    "data2 = datetime.datetime.strptime(data_futura, '%d/%m/%Y %H:%M')\n",
    "\n",
    "if data1 < data2:\n",
    "    print(\"A data original é anterior à data futura.\")\n",
    "elif data1 == data2:\n",
    "    print(\"As datas são iguais\")\n",
    "else:\n",
    "    print(\"A data original é posterior à data futura.\")"
   ]
  },
  {
   "cell_type": "code",
   "execution_count": 53,
   "metadata": {},
   "outputs": [
    {
     "name": "stdout",
     "output_type": "stream",
     "text": [
      "Dia da semana: Thursday\n"
     ]
    }
   ],
   "source": [
    "### 7. **Obter o dia da semana:**\n",
    "# Monday - Segunda-feira\n",
    "# Tuesday - Terça-feira\n",
    "# Wednesday - Quarta-feira\n",
    "# Thursday - Quinta-feira\n",
    "# Friday - Sexta-feira\n",
    "# Saturday - Sábado\n",
    "# Sunday - Domingo\n",
    "\n",
    "data_hora_str = '10/10/2024 13:00'\n",
    "data1 = datetime.datetime.strptime(data_hora_str, '%d/%m/%Y %H:%M')\n",
    "\n",
    "dia_semana = data1.strftime('%A')  # Nome do dia em inglês\n",
    "print(f\"Dia da semana: {dia_semana}\")"
   ]
  },
  {
   "cell_type": "code",
   "execution_count": 54,
   "metadata": {},
   "outputs": [
    {
     "name": "stdout",
     "output_type": "stream",
     "text": [
      "Esta data já passou.\n"
     ]
    }
   ],
   "source": [
    "### 8. **Verificar se é uma data passada ou futura:**\n",
    "agora = datetime.datetime.now()\n",
    "if data_hora < agora:\n",
    "    print(\"Esta data já passou.\")\n",
    "else:\n",
    "    print(\"Esta data está no futuro.\")\n"
   ]
  }
 ],
 "metadata": {
  "kernelspec": {
   "display_name": "venv",
   "language": "python",
   "name": "python3"
  },
  "language_info": {
   "codemirror_mode": {
    "name": "ipython",
    "version": 3
   },
   "file_extension": ".py",
   "mimetype": "text/x-python",
   "name": "python",
   "nbconvert_exporter": "python",
   "pygments_lexer": "ipython3",
   "version": "3.12.1"
  }
 },
 "nbformat": 4,
 "nbformat_minor": 2
}
